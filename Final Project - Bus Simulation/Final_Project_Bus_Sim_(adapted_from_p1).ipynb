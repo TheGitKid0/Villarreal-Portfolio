{
  "cells": [
    {
      "cell_type": "markdown",
      "metadata": {
        "id": "LjfA43UeuCkJ"
      },
      "source": [
        " This is a simulation of a small to medium sized town with that has access to a mall and Costco via the highway"
      ]
    },
    {
      "cell_type": "code",
      "execution_count": 1,
      "metadata": {
        "colab": {
          "base_uri": "https://localhost:8080/"
        },
        "id": "MZkdN5crl-OA",
        "outputId": "2bd5dba1-6f86-4173-ce89-eed202e061a0"
      },
      "outputs": [
        {
          "output_type": "stream",
          "name": "stdout",
          "text": [
            "Downloaded modsim.py\n"
          ]
        }
      ],
      "source": [
        "from os.path import basename, exists\n",
        "\n",
        "def download(url):\n",
        "    filename = basename(url)\n",
        "    if not exists(filename):\n",
        "        from urllib.request import urlretrieve\n",
        "        local, _ = urlretrieve(url, filename)\n",
        "        print('Downloaded ' + local)\n",
        "\n",
        "download('https://github.com/AllenDowney/ModSimPy/raw/master/' +\n",
        "         'modsim.py')"
      ]
    },
    {
      "cell_type": "code",
      "execution_count": 2,
      "metadata": {
        "id": "6vxF2-UZlu6t"
      },
      "outputs": [],
      "source": [
        "import networkx as nx\n",
        "import matplotlib.pyplot as plt\n",
        "import random\n",
        "from modsim import *"
      ]
    },
    {
      "cell_type": "code",
      "execution_count": 9,
      "metadata": {
        "colab": {
          "base_uri": "https://localhost:8080/",
          "height": 263
        },
        "id": "u1fR8v5zuDO_",
        "outputId": "00ce22d7-4676-4cca-9334-d4db25852d57"
      },
      "outputs": [
        {
          "output_type": "display_data",
          "data": {
            "text/plain": [
              "<Figure size 450x300 with 1 Axes>"
            ],
            "image/png": "[encoded data removed]"
          },
          "metadata": {}
        }
      ],
      "source": [
        "# This is a simulation of a small to medium sized town with that has access to a mall and Costco via the highway\n",
        "graph = nx.DiGraph()\n",
        "\n",
        "locs = [\"Neighborhood\", \"Town School\", \"Downtown\", \"Walmart\", \"Mall\", \"Costco\"]\n",
        "#vals =\n",
        "\n",
        "\n",
        "#Locations\n",
        "for loc in locs:\n",
        "  graph.add_node(loc)\n",
        "\n",
        "#bus stops 2 ways\n",
        "#two sets of probabilities since these are twin routes\n",
        "graph.add_edge(\"Neighborhood\", \"Town School\", label = 0.3)\n",
        "graph.add_edge(\"Town School\", \"Downtown\", label = 0.05)\n",
        "graph.add_edge(\"Downtown\", \"Walmart\", label = 0.25)\n",
        "graph.add_edge(\"Walmart\", \"Mall\", label = 0.2)\n",
        "graph.add_edge(\"Mall\", \"Costco\", label = 0.2)\n",
        "\n",
        "\n",
        "graph.add_edge(\"Costco\", \"Mall\", label = 0.1)\n",
        "graph.add_edge(\"Mall\", \"Walmart\", label = 0.1)\n",
        "graph.add_edge(\"Walmart\", \"Downtown\", label = 0.1)\n",
        "graph.add_edge(\"Downtown\", \"Town School\", label = 0.1)\n",
        "graph.add_edge(\"Town School\", \"Neighborhood\", label = 0.6)\n",
        "#Everyone is going back to their house eventually so the node dropping you off at the neighborhood is very high probability.\n",
        "\n",
        "\n",
        "graph_pos = nx.shell_layout(graph)\n",
        "nx.draw_networkx_nodes(graph,graph_pos)\n",
        "nx.draw_networkx_labels(graph,graph_pos)\n",
        "nx.draw_networkx_edges(graph, graph_pos, node_size=10)\n",
        "\n",
        "plt.show()\n",
        "\n"
      ]
    },
    {
      "cell_type": "code",
      "execution_count": 10,
      "metadata": {
        "colab": {
          "base_uri": "https://localhost:8080/"
        },
        "id": "fZJVDrfm7y-u",
        "outputId": "5d7028df-c43d-4a5f-f19f-1c5062ccb011"
      },
      "outputs": [
        {
          "output_type": "stream",
          "name": "stdout",
          "text": [
            "{'Neighborhood': 100, 'Town School': 5, 'Downtown': 5, 'Walmart': 5, 'Mall': 5, 'Costco': 5}\n",
            "Neighborhood Town School 0.3\n",
            "Town School Downtown 0.05\n",
            "Town School Neighborhood 0.6\n",
            "Downtown Walmart 0.25\n",
            "Downtown Town School 0.1\n",
            "Walmart Mall 0.2\n",
            "Walmart Downtown 0.1\n",
            "Mall Costco 0.2\n",
            "Mall Walmart 0.1\n",
            "Costco Mall 0.1\n",
            "Neighborhood    100\n",
            "Town School       5\n",
            "Downtown          6\n",
            "Walmart           4\n",
            "Mall              5\n",
            "Costco            5\n",
            "Name: state, dtype: int64\n",
            "Neighborhood    100\n",
            "Town School       6\n",
            "Downtown          5\n",
            "Walmart           3\n",
            "Mall              6\n",
            "Costco            5\n",
            "Name: state, dtype: int64\n",
            "Neighborhood    101\n",
            "Town School       5\n",
            "Downtown          5\n",
            "Walmart           3\n",
            "Mall              6\n",
            "Costco            5\n",
            "Name: state, dtype: int64\n",
            "Neighborhood    101\n",
            "Town School       5\n",
            "Downtown          4\n",
            "Walmart           3\n",
            "Mall              7\n",
            "Costco            5\n",
            "Name: state, dtype: int64\n",
            "Neighborhood    102\n",
            "Town School       4\n",
            "Downtown          4\n",
            "Walmart           4\n",
            "Mall              7\n",
            "Costco            4\n",
            "Name: state, dtype: int64\n",
            "Neighborhood    102\n",
            "Town School       4\n",
            "Downtown          4\n",
            "Walmart           3\n",
            "Mall              8\n",
            "Costco            4\n",
            "Name: state, dtype: int64\n",
            "Neighborhood    102\n",
            "Town School       4\n",
            "Downtown          4\n",
            "Walmart           2\n",
            "Mall              9\n",
            "Costco            4\n",
            "Name: state, dtype: int64\n",
            "Neighborhood    103\n",
            "Town School       2\n",
            "Downtown          5\n",
            "Walmart           2\n",
            "Mall             10\n",
            "Costco            3\n",
            "Name: state, dtype: int64\n",
            "Neighborhood    104\n",
            "Town School       1\n",
            "Downtown          5\n",
            "Walmart           2\n",
            "Mall             10\n",
            "Costco            3\n",
            "Name: state, dtype: int64\n",
            "Neighborhood    105\n",
            "Town School       0\n",
            "Downtown          5\n",
            "Walmart           2\n",
            "Mall             11\n",
            "Costco            2\n",
            "Name: state, dtype: int64\n",
            "Neighborhood    104\n",
            "Town School       0\n",
            "Downtown          5\n",
            "Walmart           2\n",
            "Mall             12\n",
            "Costco            2\n",
            "Name: state, dtype: int64\n",
            "Neighborhood    104\n",
            "Town School       0\n",
            "Downtown          5\n",
            "Walmart           1\n",
            "Mall             13\n",
            "Costco            2\n",
            "Name: state, dtype: int64\n",
            "Neighborhood    104\n",
            "Town School       0\n",
            "Downtown          5\n",
            "Walmart           0\n",
            "Mall             14\n",
            "Costco            2\n",
            "Name: state, dtype: int64\n"
          ]
        },
        {
          "output_type": "execute_result",
          "data": {
            "text/plain": [
              "Neighborhood    104\n",
              "Town School       0\n",
              "Downtown          5\n",
              "Walmart           0\n",
              "Mall             14\n",
              "Costco            2\n",
              "Name: state, dtype: int64"
            ]
          },
          "metadata": {},
          "execution_count": 10
        }
      ],
      "source": [
        "Locations = [\"Neighborhood\", \"Town School\", \"Downtown\", \"Walmart\", \"Mall\", \"Costco\"]\n",
        "InitialValues = {} #create a dictionary of kwargs\n",
        "\n",
        "#initialize the route to have 100 people start in the neighborhood\n",
        "\n",
        "\n",
        "for num in range(len(Locations)):\n",
        "    if Locations[num] == 'Neighborhood':\n",
        "      InitialValues[Locations[num]] = 100\n",
        "    else:\n",
        "      InitialValues[Locations[num]] = 5\n",
        "\n",
        "\n",
        "print(InitialValues)\n",
        "\n",
        "busState = State(**InitialValues)\n",
        "\n",
        "\n",
        "labels = nx.get_edge_attributes(graph,\"label\")\n",
        "\n",
        "nodes = labels.keys()\n",
        "for n in nodes:\n",
        "    fromloc,toloc = n\n",
        "    print(fromloc,toloc,labels[n])\n",
        "\n",
        "def step(state,graph):\n",
        "\n",
        "   #get the edges.\n",
        "   #this returns a dictionary whose keys are pairs (from,to)\n",
        "   #and whose values are the edge weights/labels\n",
        "   edgesAndLabels = nx.get_edge_attributes(graph,\"label\")\n",
        "\n",
        "    #you can print the dictionary to understand how it works\n",
        "   for item in edgesAndLabels:  #step through all the edgesgraph.add_edge(\"Other buildings\",\"Other Buildings\",label=0.1)\n",
        "        fromloc,toloc = item   #unpack the tuple\n",
        "        weight = edgesAndLabels[item] #find the matching weight\n",
        "        #print(fromloc,toloc,labels[item])\n",
        "        #print(item)\n",
        "        if (flip(weight)):\n",
        "            #print('moving bus from ', fromloc, ' to ', toloc)\n",
        "\n",
        "            if state[fromloc] > 0:\n",
        "              state[fromloc] -= 1     # < ---- indexing as dictionary instead of dot notation\n",
        "              state[toloc] += 1\n",
        "   print(state)\n",
        "   return\n",
        "\n",
        "def run_simulation(state, graph, num_steps):\n",
        "    \"\"\"Simulate the given number of time steps.\n",
        "    \"\"\"\n",
        "    results = TimeSeries()\n",
        "    for i in range(num_steps):\n",
        "        step(state, graph)\n",
        "        results[i] = state['Neighborhood']\n",
        "\n",
        "\n",
        "\n",
        "\n",
        "step(busState,graph)\n",
        "\n",
        "run_simulation(busState,graph,12)\n",
        "# 12 steps, 12 hours of operation (9am to 9pm)\n",
        "\n",
        "busState\n"
      ]
    }
  ],
  "metadata": {
    "colab": {
      "provenance": []
    },
    "kernelspec": {
      "display_name": "Python 3",
      "language": "python",
      "name": "python3"
    },
    "language_info": {
      "codemirror_mode": {
        "name": "ipython",
        "version": 3
      },
      "file_extension": ".py",
      "mimetype": "text/x-python",
      "name": "python",
      "nbconvert_exporter": "python",
      "pygments_lexer": "ipython3",
      "version": "3.11.9"
    }
  },
  "nbformat": 4,
  "nbformat_minor": 0
}