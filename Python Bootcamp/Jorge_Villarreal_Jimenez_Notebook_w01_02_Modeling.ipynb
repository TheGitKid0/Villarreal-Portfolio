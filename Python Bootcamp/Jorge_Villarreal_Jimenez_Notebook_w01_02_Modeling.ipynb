{
  "cells": [
    {
      "cell_type": "markdown",
      "id": "affecting-malta",
      "metadata": {
        "id": "affecting-malta"
      },
      "source": [
        "# Modeling Systems in Python"
      ]
    },
    {
      "cell_type": "markdown",
      "id": "pressed-palestinian",
      "metadata": {
        "tags": [],
        "id": "pressed-palestinian"
      },
      "source": [
        "*Adapted from Modeling and Simulation in Python 2021 Allen Downey*\n",
        "\n",
        "License: [Creative Commons Attribution-NonCommercial-ShareAlike 4.0 International](https://creativecommons.org/licenses/by-nc-sa/4.0/)"
      ]
    },
    {
      "cell_type": "markdown",
      "id": "danish-scope",
      "metadata": {
        "tags": [],
        "id": "danish-scope"
      },
      "source": [
        "## Notebook Refresher\n",
        "\n",
        "To run a cell, hold down SHIFT and press ENTER.  \n",
        "\n",
        "* If you run a text cell, Colab formats the text and displays the result.\n",
        "\n",
        "* If you run a code cell, Colab runs the Python code in the cell and displays the result, if any.\n"
      ]
    },
    {
      "cell_type": "markdown",
      "id": "criminal-lunch",
      "metadata": {
        "id": "criminal-lunch"
      },
      "source": [
        "## Falling Objects\n",
        "\n",
        "Downey's book covers the equations of motion below\n",
        "\n",
        "If the initial velocity of an object is 0 and the acceleration, $a$, is constant, the velocity after $t$ seconds is\n",
        "\n",
        "(1) $v = a t$\n",
        "\n",
        "and the distance the object has dropped is\n",
        "\n",
        "(2) $x = a t^2 / 2$\n",
        "\n",
        "To find the time until the object the sidewalk, we can solve for $t$:\n",
        "\n",
        "(3) $t = \\sqrt{ 2 x / a}$\n",
        "\n"
      ]
    },
    {
      "cell_type": "markdown",
      "source": [
        "\n",
        "\n",
        "For instance, plugging in the acceleration of gravity, $a = 9.8$ m/s$^2$, and the height of the Empire State Building, $x = 381$ m, we get $t = 8.8$ s.\n",
        "\n",
        "Then computing $v = a t$ we get a velocity on impact of $86$ m/s, which is about 190 miles per hour."
      ],
      "metadata": {
        "id": "DhIpHrkeg_qR"
      },
      "id": "DhIpHrkeg_qR"
    },
    {
      "cell_type": "markdown",
      "source": [
        "## Exercise 1: Generating Time Series Data\n",
        "\n",
        "Using the equations above, write a function that, given an initial height of an object, returns time it takes to hit the ground.  The gravitational constant `a` may be a global variable defined outside the scope of the function.\n",
        "\n",
        "(You know what global variables and scope are, right)\n"
      ],
      "metadata": {
        "id": "gPOehXOdhMiR"
      },
      "id": "gPOehXOdhMiR"
    },
    {
      "cell_type": "code",
      "source": [
        "from math import sqrt\n",
        "gravityConst = 9.8\n",
        "def fallObj(hei):\n",
        "  time = sqrt((2 * hei) / gravityConst)\n",
        "  return time\n",
        "\n"
      ],
      "metadata": {
        "id": "47-DFJ61hnuV"
      },
      "id": "47-DFJ61hnuV",
      "execution_count": null,
      "outputs": []
    },
    {
      "cell_type": "markdown",
      "source": [
        "Test your function in the cell below."
      ],
      "metadata": {
        "id": "iNJhfIeNiONP"
      },
      "id": "iNJhfIeNiONP"
    },
    {
      "cell_type": "code",
      "source": [
        "#testing code here\n",
        "userHei = float(input(\"Enter the height of your object: \"))\n",
        "userTime = fallObj(userHei)\n",
        "print(\"The time it took for this object to fall is\",userTime)"
      ],
      "metadata": {
        "id": "eVqJvuAuiN3e",
        "colab": {
          "base_uri": "https://localhost:8080/"
        },
        "outputId": "b4aecc71-0af9-478c-bd8e-42b7c2233bbd"
      },
      "id": "eVqJvuAuiN3e",
      "execution_count": null,
      "outputs": [
        {
          "output_type": "stream",
          "name": "stdout",
          "text": [
            "Enter the height of your object: 6.3\n",
            "The time it took for this object to fall is 1.1338934190276817\n"
          ]
        }
      ]
    },
    {
      "cell_type": "markdown",
      "source": [
        "Now write a similar function that returns a tuple containing both the time *and* the speed at which the object is traveling.\n",
        "\n",
        "Do you know how to return tuples from functions?"
      ],
      "metadata": {
        "id": "YUzhObShiJxl"
      },
      "id": "YUzhObShiJxl"
    },
    {
      "cell_type": "code",
      "source": [
        "# revised function here\n",
        "from math import sqrt\n",
        "gravityConst = 9.8\n",
        "def fallObjAndVelo(hei):\n",
        "  time = sqrt((2 * hei) / gravityConst)\n",
        "  vel = time * gravityConst\n",
        "  return (time,vel)\n",
        "\n",
        "\n"
      ],
      "metadata": {
        "id": "PPJtjYBciYEu"
      },
      "id": "PPJtjYBciYEu",
      "execution_count": null,
      "outputs": []
    },
    {
      "cell_type": "markdown",
      "source": [
        "And test the code below"
      ],
      "metadata": {
        "id": "bDiPpRIDh2cK"
      },
      "id": "bDiPpRIDh2cK"
    },
    {
      "cell_type": "code",
      "source": [
        "# testing code here\n",
        "userHei = float(input(\"Enter the height of your object: \"))\n",
        "userTuple = fallObjAndVelo(userHei)\n",
        "print(userTuple)"
      ],
      "metadata": {
        "id": "yPBtKBIqh0ip",
        "colab": {
          "base_uri": "https://localhost:8080/"
        },
        "outputId": "ac98b69f-2b3e-4f9b-84b3-9f9ace9d0b94"
      },
      "id": "yPBtKBIqh0ip",
      "execution_count": null,
      "outputs": [
        {
          "output_type": "stream",
          "name": "stdout",
          "text": [
            "Enter the height of your object: 6.3\n",
            "(1.1338934190276817, 11.112155506471282)\n"
          ]
        }
      ]
    },
    {
      "cell_type": "markdown",
      "source": [
        "---\n",
        "\n",
        "The more general equation of motion is:\n",
        "\n",
        "$$d(t) = d_{0} + v_{0}t + a t^{2} / 2$$\n",
        "\n",
        "Where $v_{0}$ is the initial velocity and $d_{0}$ is the initial height.\n",
        "\n",
        "Write a function which, given an initial height and initial velocity, returns a tuple with the time it takes to reach the ground and the speed."
      ],
      "metadata": {
        "id": "CF8ct_YNibbe"
      },
      "id": "CF8ct_YNibbe"
    },
    {
      "cell_type": "code",
      "source": [
        "#function here\n",
        "def timeAndspeedtoGround(initHei,initVel):\n",
        "  x = -initVel+sqrt((initVel)**2 -4(gravityConst*initHei))\n",
        "  y = -initVel-sqrt((initVel)**2 -4(gravityConst*initHei))\n",
        "  return x,y\n",
        "\n"
      ],
      "metadata": {
        "id": "2zQqFLDkiwUN",
        "colab": {
          "base_uri": "https://localhost:8080/"
        },
        "outputId": "3a7b8c56-f493-46d8-b285-b33350e60c4c"
      },
      "id": "2zQqFLDkiwUN",
      "execution_count": null,
      "outputs": [
        {
          "output_type": "stream",
          "name": "stderr",
          "text": [
            "<>:3: SyntaxWarning: 'int' object is not callable; perhaps you missed a comma?\n",
            "<>:4: SyntaxWarning: 'int' object is not callable; perhaps you missed a comma?\n",
            "<>:3: SyntaxWarning: 'int' object is not callable; perhaps you missed a comma?\n",
            "<>:4: SyntaxWarning: 'int' object is not callable; perhaps you missed a comma?\n",
            "<ipython-input-6-b4e2f6b899b6>:3: SyntaxWarning: 'int' object is not callable; perhaps you missed a comma?\n",
            "  x = -initVel+sqrt((initVel)**2 -4(gravityConst*initHei))\n",
            "<ipython-input-6-b4e2f6b899b6>:4: SyntaxWarning: 'int' object is not callable; perhaps you missed a comma?\n",
            "  y = -initVel-sqrt((initVel)**2 -4(gravityConst*initHei))\n"
          ]
        }
      ]
    },
    {
      "cell_type": "markdown",
      "source": [
        "test below"
      ],
      "metadata": {
        "id": "uwFYhmiqh9om"
      },
      "id": "uwFYhmiqh9om"
    },
    {
      "cell_type": "code",
      "source": [
        "# testing here\n"
      ],
      "metadata": {
        "id": "fD8Ds7y8h_Vy"
      },
      "id": "fD8Ds7y8h_Vy",
      "execution_count": null,
      "outputs": []
    },
    {
      "cell_type": "markdown",
      "source": [
        "---\n",
        "\n",
        "## Functions on Time\n",
        "\n",
        "\n",
        "Now write a function that, given $d_{0}$ and $v_{0}$, prints the distance and speed of the object at intervals of $0.1$ seconds.  Test your code in a new cell block."
      ],
      "metadata": {
        "id": "bRa92GJcjQHx"
      },
      "id": "bRa92GJcjQHx"
    },
    {
      "cell_type": "code",
      "source": [],
      "metadata": {
        "id": "kvWrPlLXjkD3"
      },
      "id": "kvWrPlLXjkD3",
      "execution_count": null,
      "outputs": []
    },
    {
      "cell_type": "markdown",
      "source": [
        "Now improve the function by also passing in $\\Delta t$ (the time interval) as an argument.  Insert a cell to test your function as well."
      ],
      "metadata": {
        "id": "j2SCYMg4jlVc"
      },
      "id": "j2SCYMg4jlVc"
    },
    {
      "cell_type": "code",
      "source": [],
      "metadata": {
        "id": "i7TNpLkWjvUA"
      },
      "id": "i7TNpLkWjvUA",
      "execution_count": null,
      "outputs": []
    },
    {
      "cell_type": "markdown",
      "source": [
        "Now improve the function by *returning* the distance and speed of the object at every time interval until it hits the ground.\n",
        "\n",
        "Plan ahead and be sure to discuss:\n",
        "* How are you going to implement this?\n",
        "* How are you are going to return these values?\n",
        "\n",
        "Insert a cell to test your function as well.\n"
      ],
      "metadata": {
        "id": "OjHnvX3AeAZJ"
      },
      "id": "OjHnvX3AeAZJ"
    },
    {
      "cell_type": "code",
      "source": [],
      "metadata": {
        "id": "gp-63bAOj-jB"
      },
      "id": "gp-63bAOj-jB",
      "execution_count": null,
      "outputs": []
    },
    {
      "cell_type": "code",
      "execution_count": null,
      "id": "pressing-belgium",
      "metadata": {
        "id": "pressing-belgium"
      },
      "outputs": [],
      "source": [
        "# Solution goes here"
      ]
    },
    {
      "cell_type": "markdown",
      "source": [],
      "metadata": {
        "id": "AvzvLHGGiLhD"
      },
      "id": "AvzvLHGGiLhD"
    },
    {
      "cell_type": "markdown",
      "id": "valid-empire",
      "metadata": {
        "id": "valid-empire"
      },
      "source": [
        "### Terminal Velocity\n",
        "\n",
        "Imagine that a penny's terminal velocity is $29$ m/s in air, meaning that once it reaches that speed it can't fall faster than that.  \n",
        "\n",
        "Plan, then implement a model that includes this: let's assume that the acceleration of the penny is `a` until the penny reaches $29$ m/s, and then $0$ m/s$^2$ afterwards.  What is the total time for the penny to fall $381$\n",
        "\n",
        " How would you model this?  Explain in a text cell and then implement it."
      ]
    },
    {
      "cell_type": "code",
      "execution_count": null,
      "id": "greenhouse-reason",
      "metadata": {
        "id": "greenhouse-reason"
      },
      "outputs": [],
      "source": [
        "# Solution goes here"
      ]
    },
    {
      "cell_type": "markdown",
      "id": "asian-murray",
      "metadata": {
        "id": "asian-murray"
      },
      "source": [
        "### Exercise 6:\n",
        "\n",
        "So far we have considered two models of a falling penny:\n",
        "\n",
        "* If we ignore air resistance, the penny falls with constant acceleration, and we can compute the time to reach the sidewalk and the velocity of the penny when it gets there.\n",
        "\n",
        "* If we take air resistance into account, and drop the penny at its terminal velocity, it falls with constant velocity.\n",
        "\n",
        "Assume the penny starts with $v_{0}=0$ at a height of 381 m.\n"
      ]
    },
    {
      "cell_type": "code",
      "execution_count": null,
      "id": "secure-crowd",
      "metadata": {
        "id": "secure-crowd"
      },
      "outputs": [],
      "source": []
    }
  ],
  "metadata": {
    "celltoolbar": "Tags",
    "kernelspec": {
      "display_name": "Python 3 (ipykernel)",
      "language": "python",
      "name": "python3"
    },
    "language_info": {
      "codemirror_mode": {
        "name": "ipython",
        "version": 3
      },
      "file_extension": ".py",
      "mimetype": "text/x-python",
      "name": "python",
      "nbconvert_exporter": "python",
      "pygments_lexer": "ipython3",
      "version": "3.8.16"
    },
    "colab": {
      "provenance": []
    }
  },
  "nbformat": 4,
  "nbformat_minor": 5
}