{
  "cells": [
    {
      "cell_type": "markdown",
      "metadata": {
        "id": "xDHMkwN4y6eE"
      },
      "source": [
        "## Computational Neuroscience Quiz: Spiking Neuron Models"
      ]
    },
    {
      "cell_type": "markdown",
      "metadata": {
        "id": "vsCh5kO7y6eF"
      },
      "source": [
        "Early models of biological neurons were based upon the \"leaky integrate-and-fire model\", in which the change in voltage over time is determined by several biological factors of the cell.   The dynamics of the neuron's membrane potential -- that is to say (roughly) the rate of change of the voltage of the cell over time,  can be modeled by the following equation:\n",
        "\n",
        "$\\frac{dV_{m}}{dt} = G_{L}(E_{L} - V_{m}) + I_{m}$\n",
        "\n",
        "Where $G_{L}$ is the leak conductance (a property of the membrane), $E_{L}$ is the Leak reversal potential (the value of $V_{m}$ where leak current is 0), and $I_{m}$ is the total membrane current (that is, the amount of charge entering the neuron).\n",
        "\n",
        "*Don't worry about the biological terms!*\n",
        "\n",
        "We can think of $G_{L}$ and $E_{L}$ as being invariant constants of the system, and $I_{m}$ as being an input to the system, and $V_{m}$ as being the output of the system we seek to measure.  When $I_{m}$ is zero, the voltage will slowly converge to the steady state voltage $E_{L}$, and when $I_{m}$ is non-zero, the voltage will asymptotically grow toward an upper limit."
      ]
    },
    {
      "cell_type": "code",
      "execution_count": null,
      "metadata": {
        "id": "MzKurWEoy6eF",
        "colab": {
          "base_uri": "https://localhost:8080/"
        },
        "outputId": "cf4c9b0a-45c7-414e-e8e2-f7e61f6653f7"
      },
      "outputs": [
        {
          "output_type": "stream",
          "name": "stdout",
          "text": [
            "Downloaded modsim.py\n"
          ]
        }
      ],
      "source": [
        "from os.path import basename, exists\n",
        "\n",
        "def download(url):\n",
        "    filename = basename(url)\n",
        "    if not exists(filename):\n",
        "        from urllib.request import urlretrieve\n",
        "        local, _ = urlretrieve(url, filename)\n",
        "        print('Downloaded ' + local)\n",
        "\n",
        "download('https://github.com/AllenDowney/ModSimPy/raw/master/' +\n",
        "         'modsim.py')\n",
        "\n",
        "from modsim import *\n",
        "import matplotlib.pyplot as pl\n",
        "from modsim import *"
      ]
    },
    {
      "cell_type": "markdown",
      "metadata": {
        "id": "tWdGHC5Ty6eG"
      },
      "source": [
        "### Part 1: Creating the System"
      ]
    },
    {
      "cell_type": "markdown",
      "metadata": {
        "id": "bUaSjH6Ay6eG"
      },
      "source": [
        "Begin by creating a System() object to describe the fixed parameters of the model of the neuron.  The particular parameter values are as follows (with apologies to neuroscience majors, these values are unit-free, and very approximate, although based upon values from my Computational Neuroscience textbooks).  The terms $V_{reset}$ and $V_{threshold}$ should be defined in your system, although they are explained in more detail below.\n",
        "\n",
        "- $E_{L}: 7$\n",
        "- $G_{L}: 0.1$\n",
        "- $V_{threshold}: 20$\n",
        "- $V_{reset}: 5$"
      ]
    },
    {
      "cell_type": "code",
      "execution_count": null,
      "metadata": {
        "id": "T3oGgdBQy6eG",
        "colab": {
          "base_uri": "https://localhost:8080/"
        },
        "outputId": "40a738c7-fa62-4e80-e355-90daef2f1e18"
      },
      "outputs": [
        {
          "output_type": "execute_result",
          "data": {
            "text/plain": [
              "namespace()"
            ]
          },
          "metadata": {},
          "execution_count": 17
        }
      ],
      "source": [
        "#In this code cell, create a System() object, and call it \"neuron\"\n",
        "class System:\n",
        "  def __init__(EL,GL,Vthresh,Vreset):\n",
        "    neuron.EL = 7\n",
        "    neuron.GL = 0.1\n",
        "    neuron.Vthresh = 20\n",
        "    neuron.Vreset = 5\n",
        "#leave the line below intact, so that your neuron system is printed in a pretty fashion.\n",
        "neuron"
      ]
    },
    {
      "cell_type": "markdown",
      "source": [
        "I have no idea how to create and make objects here in python."
      ],
      "metadata": {
        "id": "1RYuIQoCfZpO"
      }
    },
    {
      "cell_type": "markdown",
      "metadata": {
        "id": "AKYW6ZT_y6eH"
      },
      "source": [
        "### Part 2: A Leaky Integrator\n",
        "\n",
        "**A)** Now, create a function, called *update_voltage()*, that takes as input parameters the following values:\n",
        "\n",
        "- current neuron voltage, $V_{m}$\n",
        "- input current, $I_{m}$\n",
        "- your neuron model from Part 1 above.\n",
        "\n",
        "Your function should return:\n",
        "\n",
        "- a *new* voltage based upon the equation  below:\n",
        "\n",
        "$V_{m}(t+1) = V_{m}(t) + \\Delta V_{m}$\n",
        "\n",
        "where\n",
        "\n",
        "$\\Delta V_{m} = \\frac{dV_{m}}{dt} = G_{L}(E_{L} - V_{m}) + I_{m}$\n",
        "\n",
        "(apologies to math majors for the abuse of notation)\n",
        "\n",
        "*hint: if you are stuck, look at the update() functions you wrote for chapters 7 and 8*\n"
      ]
    },
    {
      "cell_type": "code",
      "execution_count": null,
      "metadata": {
        "id": "GKMZjwh_y6eH"
      },
      "outputs": [],
      "source": [
        "#write your update_voltage function.\n",
        "update_voltage(neuronVolt,inputCurr,neuron)\n",
        "# If you are stuck, look at the update() functions\n",
        "# that you wrote for population dynamics in chapters 7 and 8.  This should be very similar\n"
      ]
    },
    {
      "cell_type": "markdown",
      "metadata": {
        "id": "m0a41wx7y6eH"
      },
      "source": [
        "**B)** Now create a function called **run_simulation()** that takes as input parameters the following values:\n",
        "\n",
        "- a neuron system\n",
        "- an update function like the one you wrote above\n",
        "- $I_{m}$, the input current into the neuron\n",
        "\n",
        "your run_simulation() should run for 200 time steps (for t in linrange(0,200)), and keep track of the neuron's voltage in a TimeSeries() object called **voltages**.  Where voltages at time $t+1$ is determined by your update function from above.\n",
        "\n",
        "- the initial voltage (voltages[0]) of the neuron voltages should be set to the same value as $E_{L}$ in your model (7)\n",
        "\n",
        "*hint: again, for guidance, look at how your modeled populations in Chapter 7*\n"
      ]
    },
    {
      "cell_type": "code",
      "execution_count": null,
      "metadata": {
        "id": "iJQy2jH3y6eI"
      },
      "outputs": [],
      "source": [
        "#write run_simulation() here.\n",
        "\n",
        "\n"
      ]
    },
    {
      "cell_type": "markdown",
      "metadata": {
        "id": "UegKljRqy6eI"
      },
      "source": [
        "___\n",
        "\n",
        "**C)** In the cell blow, run your simulation with a constant input current of *1* and then plot the results.  What does your \"steady state\" plot look like? *(hint: it should look like a straight line with constant value $E_{L}$"
      ]
    },
    {
      "cell_type": "code",
      "execution_count": null,
      "metadata": {
        "id": "ZZfy7eHuy6eI"
      },
      "outputs": [],
      "source": [
        "#run your model\n",
        "\n",
        "# results =  #call your run_simulation function here\n",
        "plt.plot(results)"
      ]
    },
    {
      "cell_type": "markdown",
      "metadata": {
        "id": "-dvsuNCmy6eI"
      },
      "source": [
        "---\n",
        "\n",
        "**D)** Now re-run and plot your simulation, but with an input current of 1.4.  What does it look like *(hint: it should look like a steep hill)*"
      ]
    },
    {
      "cell_type": "code",
      "execution_count": null,
      "metadata": {
        "id": "YTFLZ38fy6eI"
      },
      "outputs": [],
      "source": [
        "#rerun with input current of 1.4\n",
        "\n",
        "plt.plot(results)"
      ]
    },
    {
      "cell_type": "markdown",
      "metadata": {
        "id": "W7JvxubRy6eI"
      },
      "source": [
        "### Leaky Integrate and Fire Model\n",
        "\n",
        "Of course, neurons actually \"fire\" when they reach a certain activation voltage threshold.  In that case, the equation above actually becomes the following:\n",
        "\n",
        "$V_{m}(t+1) = \\left\\{\\begin{matrix} V_{m}(t) + \\Delta V_{m}(\\textrm {if   } V_{m} < V_{threshold})\\\\ V_{reset} (\\textrm{  if  } V_{m} >= V_{threshold})  \\end{matrix}\\right.$\n",
        "\n",
        "That is to say, when the cell voltage $V{m}$ exceeds the threshold $V_{threshold}$, then it \"fires\" and resets its voltage to $V_{reset}$.  Otherwise it proceeds as in your update function above\n",
        "\n",
        "\n",
        "\n",
        "\n",
        "\n"
      ]
    },
    {
      "cell_type": "markdown",
      "metadata": {
        "id": "TsJBR-AMy6eJ"
      },
      "source": [
        "**A)** In the cell below, rewrite your **run_simulation** function such that the voltage at time $t+1$ is governed by the equation above -- i.e. it operates just like the leaky model in the earlier part, but that it resets to $V_{reset}$ if the voltage at time $t$ exceeds $V_{threshold}"
      ]
    },
    {
      "cell_type": "code",
      "execution_count": null,
      "metadata": {
        "id": "GDPPGxLgy6eJ"
      },
      "outputs": [],
      "source": [
        "#rewrite run_simulation here\n"
      ]
    },
    {
      "cell_type": "markdown",
      "metadata": {
        "id": "HZ0Glmsjy6eJ"
      },
      "source": [
        "**B)** Now, in the cell below, run your new simulation with an initial $I_{m}$ of 0"
      ]
    },
    {
      "cell_type": "code",
      "execution_count": null,
      "metadata": {
        "scrolled": true,
        "id": "6T1joezzy6eJ"
      },
      "outputs": [],
      "source": [
        "#run your above simulation with an input current I_m of 0\n",
        "\n",
        "#plot results\n",
        "plt.plot(results)"
      ]
    },
    {
      "cell_type": "markdown",
      "metadata": {
        "id": "NVe9Og_My6eJ"
      },
      "source": [
        "**C)** Now run it again with an input current $I_{m}$ of 1.2"
      ]
    },
    {
      "cell_type": "code",
      "execution_count": null,
      "metadata": {
        "scrolled": true,
        "id": "yvnlCE1Iy6eJ"
      },
      "outputs": [],
      "source": [
        "#run your above simulation with an I_m of 1.2\n",
        "\n",
        "#plot results\n",
        "plt.plot(results)"
      ]
    },
    {
      "cell_type": "markdown",
      "metadata": {
        "id": "8C3Gx0zwy6eJ"
      },
      "source": [
        "**D)** And run it once again with ain input current $I_{m}$ of 1.4"
      ]
    },
    {
      "cell_type": "code",
      "execution_count": null,
      "metadata": {
        "id": "R0tzkgmyy6eJ"
      },
      "outputs": [],
      "source": [
        "#run your above simulation with an I_m of 1.4\n",
        "\n",
        "#plot\n",
        "plt.plot(results)"
      ]
    },
    {
      "cell_type": "markdown",
      "metadata": {
        "id": "H4AI7AsZy6eJ"
      },
      "source": [
        "### Response to Time-Varying Input Currents\n",
        "\n",
        "Of course, input currents aren't constant as in the models above.  Rather they vary over time.   Let's see how your neuron model response to a \"square-wave\" input current.  That is to say, specifically, the input current should be 0 for the first 50 time steps (when t <50) , and then it should be set to $I_{m}$ when time is between 50 and 150, and it should return to 0 after 150.\n",
        "\n",
        "**A)** rewrite run_simulation() to implement this.  *Note*: the input parameters and output parameters of run_simulation won't change, and neither should your update() function.  Instead, edit the body of run_simulation such that the input current for your update function is 0 when t < 50 and when t > 150, and the input current argument for update() is $I_{m}$ when 50 < t < 150."
      ]
    },
    {
      "cell_type": "code",
      "execution_count": null,
      "metadata": {
        "id": "Rh0kEr4vy6eJ"
      },
      "outputs": [],
      "source": [
        "#rewrite run simulation so that I_m varies with time\n",
        "\n"
      ]
    },
    {
      "cell_type": "markdown",
      "metadata": {
        "id": "7fQ_UT-xy6eJ"
      },
      "source": [
        "**B)** test and plot your new run_simulation with an $I_{m}$ of 1.2"
      ]
    },
    {
      "cell_type": "code",
      "execution_count": null,
      "metadata": {
        "id": "eC30Z_Rzy6eJ"
      },
      "outputs": [],
      "source": [
        "#call and plot run_simulation with an I_m of 1.2\n",
        "\n",
        "#plot\n",
        "plt.plot(results)\n"
      ]
    },
    {
      "cell_type": "markdown",
      "metadata": {
        "id": "n7Mlnb64y6eJ"
      },
      "source": [
        "**C)** now test and plot run_simulation with an $I_{m}$ of 1.4"
      ]
    },
    {
      "cell_type": "code",
      "execution_count": null,
      "metadata": {
        "id": "De1C55ipy6eK"
      },
      "outputs": [],
      "source": [
        "#call and plot run_simulation with an I_m of 1.4"
      ]
    },
    {
      "cell_type": "markdown",
      "metadata": {
        "id": "LmFwM2jJy6eK"
      },
      "source": [
        "**D)** finally test and plot  it with $I_{m}$ of 1.8"
      ]
    },
    {
      "cell_type": "code",
      "execution_count": null,
      "metadata": {
        "id": "awB_mCawy6eK"
      },
      "outputs": [],
      "source": [
        "#call and plot run_simulation with an I_m of 1.8"
      ]
    },
    {
      "cell_type": "markdown",
      "metadata": {
        "id": "vsMCiIG5y6eK"
      },
      "source": [
        "### Extra Credit: Impress Me!\n",
        "\n",
        "Have extra time?  \n",
        "- Try plotting $I_{m}$ on top of $V_{m}$\n",
        "- Add a \"refactory period\" -- namely, after a \"spike\" (caused when $V_{m}$ exceed $V_{threshold}$, the neuron cannot produce another spike for a fixed amount of time.  Add this refactory time $\\tau_{ref}$ as a parameter to your system model, and re-implement your simulation."
      ]
    },
    {
      "cell_type": "code",
      "execution_count": null,
      "metadata": {
        "id": "78JNi1D2y6eK"
      },
      "outputs": [],
      "source": []
    }
  ],
  "metadata": {
    "kernelspec": {
      "display_name": "Python 3",
      "language": "python",
      "name": "python3"
    },
    "language_info": {
      "codemirror_mode": {
        "name": "ipython",
        "version": 3
      },
      "file_extension": ".py",
      "mimetype": "text/x-python",
      "name": "python",
      "nbconvert_exporter": "python",
      "pygments_lexer": "ipython3",
      "version": "3.6.8"
    },
    "colab": {
      "provenance": []
    }
  },
  "nbformat": 4,
  "nbformat_minor": 0
}