{
  "cells": [
    {
      "cell_type": "markdown",
      "metadata": {
        "id": "NorVRtd7LbyH"
      },
      "source": [
        "# Project 3: 2D Simulation\n",
        "\n",
        "In this project I'll ask you to learn a little but about numpy 2D arrays, then implement a 2D convolution simulation environment, and then implement a variety of models within it.\n",
        "\n",
        "This project is open-ended, and designed to challenge you.  Along the way you'll have plenty of opportunities to explore and learn concepts that challenge you.\n",
        "\n",
        "## Implementation Details\n",
        "\n",
        "You don't *have* to use this notebook to implement your model - you can use an `.ipynb` in Visual Studio, or straight-up python in a `.py` file.  You can use your personal computer or a CS machine (preferred), but one way or another you'll need to ensure that your code runs on a department computer, and that you provide me with all the code needed to run the project."
      ]
    },
    {
      "cell_type": "markdown",
      "metadata": {
        "id": "SsU0Qy16NBGE"
      },
      "source": [
        "---\n",
        "\n",
        "## Part 1: The Simulator\n",
        "\n",
        "Implement a numpy 2-D array based convolution simulator.  You can use an object oriented model if you would like (and you probably *should* if you have taken CSC-120 or CSC-151).  You simulation should have the following features:\n",
        "\n",
        "* have variable, rather than hard-coded size (rows,cols).  The size should stay fixed *during* simulation of course.\n",
        "* a function to initialize the world, i.e. by addding cells at specified points.\n",
        "* have your own `convolve()` function, which runs 2D convolution on the numpy array.  This function *should not* use the built-in numpy convolve method - I want you to roll your own!  This function should work with variable-sized kernels, not just `3x3` but also `5x5`, `7x7` etc.  (always an odd number).\n",
        "\n",
        "* have a `step()` function, which modifies the world array using convolution.\n",
        "* have a `step_n_times` function, which steps a given number of times\n",
        "* a means of visualizing the world.\n",
        "* how will you handle boundary conditions?  You might want to learn how to implement keyword arguments (`kwargs`) in python functions.\n",
        "\n",
        "\n"
      ]
    },
    {
      "cell_type": "code",
      "execution_count": 21,
      "metadata": {},
      "outputs": [],
      "source": [
        "import numpy as np\n",
        "import matplotlib.pyplot as plt\n",
        "import random"
      ]
    },
    {
      "cell_type": "code",
      "execution_count": 29,
      "metadata": {
        "id": "Qd7CxgUaJoGM"
      },
      "outputs": [],
      "source": [
        "rows = random.randint(20,40)\n",
        "cols = random.randint(20,40)\n",
        "\n",
        "heatWorld = np.zeros((rows,cols))\n",
        "\n",
        "def convolve(world, kernel):\n",
        "    # Flip the kernel\n",
        "    kernel = np.flipud(np.fliplr(kernel))\n",
        "    \n",
        "    # Get dimensions of world and kernel\n",
        "    world_height, world_width = world.shape\n",
        "    kernel_height, kernel_width = kernel.shape\n",
        "    \n",
        "    # Compute output dimensions\n",
        "    output_hei = world_height - kernel_height + 1\n",
        "    output_wid = world_width - kernel_width + 1\n",
        "    \n",
        "    #look I did this part for you\n",
        "    #if you want more precision you can use a different datatype tuan uint8\n",
        "    output = np.zeros((output_hei, output_wid), np.uint8)\n",
        "    \n",
        "    # Perform 2D convolution\n",
        "    y = output_hei\n",
        "    x = output_wid   \n",
        "    output[y, x] = np.sum(world[y:y+kernel_height, x:x+kernel_width] * kernel)\n",
        "    \n",
        "\n",
        "def step(world,kernel):\n",
        "    convolve(world,kernel)\n",
        "\n",
        "def step_n_times(n,world,kernel):\n",
        "    for i in range(n):\n",
        "        step(world,kernel)   \n",
        "\n",
        "\n",
        "\n",
        "\n",
        "\n",
        "\n",
        "    \n",
        "   \n",
        "def plot_iterations(array:np.array, rows:int, cols:int)->None:\n",
        "    '''\n",
        "    Downey's code to plot a cellular array in a pretty way\n",
        "    '''\n",
        "    #color map\n",
        "    cmap = plt.get_cmap('Blues')\n",
        "    #plot using colormap\n",
        "    plt.imshow(array, cmap=cmap, interpolation='none')\n"
      ]
    },
    {
      "cell_type": "markdown",
      "metadata": {
        "id": "LcMnvSUQPCr6"
      },
      "source": [
        "## Part 2: Modeling Heat Diffusion\n",
        "\n",
        "Use your system above to model heat diffusing across the plane. You can use a simple averaging kernel for this, or something more sophisticated.  Test it with various intensities and locations."
      ]
    },
    {
      "cell_type": "code",
      "execution_count": 30,
      "metadata": {
        "id": "g7JYvxIYPTNw"
      },
      "outputs": [
        {
          "ename": "ValueError",
          "evalue": "operands could not be broadcast together with shapes (2,2) (3,3) ",
          "output_type": "error",
          "traceback": [
            "\u001b[1;31m---------------------------------------------------------------------------\u001b[0m",
            "\u001b[1;31mValueError\u001b[0m                                Traceback (most recent call last)",
            "Cell \u001b[1;32mIn[30], line 5\u001b[0m\n\u001b[0;32m      1\u001b[0m k \u001b[38;5;241m=\u001b[39m np\u001b[38;5;241m.\u001b[39marray([[\u001b[38;5;241m1\u001b[39m\u001b[38;5;241m/\u001b[39m\u001b[38;5;241m3\u001b[39m, \u001b[38;5;241m1\u001b[39m\u001b[38;5;241m/\u001b[39m\u001b[38;5;241m3\u001b[39m, \u001b[38;5;241m1\u001b[39m\u001b[38;5;241m/\u001b[39m\u001b[38;5;241m3\u001b[39m],\n\u001b[0;32m      2\u001b[0m               [\u001b[38;5;241m1\u001b[39m\u001b[38;5;241m/\u001b[39m\u001b[38;5;241m3\u001b[39m, \u001b[38;5;241m1\u001b[39m\u001b[38;5;241m/\u001b[39m\u001b[38;5;241m3\u001b[39m, \u001b[38;5;241m1\u001b[39m\u001b[38;5;241m/\u001b[39m\u001b[38;5;241m3\u001b[39m],\n\u001b[0;32m      3\u001b[0m               [\u001b[38;5;241m1\u001b[39m\u001b[38;5;241m/\u001b[39m\u001b[38;5;241m3\u001b[39m, \u001b[38;5;241m1\u001b[39m\u001b[38;5;241m/\u001b[39m\u001b[38;5;241m3\u001b[39m, \u001b[38;5;241m1\u001b[39m\u001b[38;5;241m/\u001b[39m\u001b[38;5;241m3\u001b[39m]])\n\u001b[1;32m----> 5\u001b[0m \u001b[43mstep_n_times\u001b[49m\u001b[43m(\u001b[49m\u001b[38;5;241;43m25\u001b[39;49m\u001b[43m,\u001b[49m\u001b[43mheatWorld\u001b[49m\u001b[43m,\u001b[49m\u001b[43mk\u001b[49m\u001b[43m)\u001b[49m\n\u001b[0;32m      7\u001b[0m plt\u001b[38;5;241m.\u001b[39mplot_iterations(heatWorld,rows,cols)\n",
            "Cell \u001b[1;32mIn[29], line 33\u001b[0m, in \u001b[0;36mstep_n_times\u001b[1;34m(n, world, kernel)\u001b[0m\n\u001b[0;32m     31\u001b[0m \u001b[38;5;28;01mdef\u001b[39;00m \u001b[38;5;21mstep_n_times\u001b[39m(n,world,kernel):\n\u001b[0;32m     32\u001b[0m     \u001b[38;5;28;01mfor\u001b[39;00m i \u001b[38;5;129;01min\u001b[39;00m \u001b[38;5;28mrange\u001b[39m(n):\n\u001b[1;32m---> 33\u001b[0m         \u001b[43mstep\u001b[49m\u001b[43m(\u001b[49m\u001b[43mworld\u001b[49m\u001b[43m,\u001b[49m\u001b[43mkernel\u001b[49m\u001b[43m)\u001b[49m\n",
            "Cell \u001b[1;32mIn[29], line 29\u001b[0m, in \u001b[0;36mstep\u001b[1;34m(world, kernel)\u001b[0m\n\u001b[0;32m     28\u001b[0m \u001b[38;5;28;01mdef\u001b[39;00m \u001b[38;5;21mstep\u001b[39m(world,kernel):\n\u001b[1;32m---> 29\u001b[0m     \u001b[43mconvolve\u001b[49m\u001b[43m(\u001b[49m\u001b[43mworld\u001b[49m\u001b[43m,\u001b[49m\u001b[43mkernel\u001b[49m\u001b[43m)\u001b[49m\n",
            "Cell \u001b[1;32mIn[29], line 25\u001b[0m, in \u001b[0;36mconvolve\u001b[1;34m(world, kernel)\u001b[0m\n\u001b[0;32m     23\u001b[0m y \u001b[38;5;241m=\u001b[39m output_hei\n\u001b[0;32m     24\u001b[0m x \u001b[38;5;241m=\u001b[39m output_wid   \n\u001b[1;32m---> 25\u001b[0m output[y, x] \u001b[38;5;241m=\u001b[39m np\u001b[38;5;241m.\u001b[39msum(\u001b[43mworld\u001b[49m\u001b[43m[\u001b[49m\u001b[43my\u001b[49m\u001b[43m:\u001b[49m\u001b[43my\u001b[49m\u001b[38;5;241;43m+\u001b[39;49m\u001b[43mkernel_height\u001b[49m\u001b[43m,\u001b[49m\u001b[43m \u001b[49m\u001b[43mx\u001b[49m\u001b[43m:\u001b[49m\u001b[43mx\u001b[49m\u001b[38;5;241;43m+\u001b[39;49m\u001b[43mkernel_width\u001b[49m\u001b[43m]\u001b[49m\u001b[43m \u001b[49m\u001b[38;5;241;43m*\u001b[39;49m\u001b[43m \u001b[49m\u001b[43mkernel\u001b[49m)\n",
            "\u001b[1;31mValueError\u001b[0m: operands could not be broadcast together with shapes (2,2) (3,3) "
          ]
        }
      ],
      "source": [
        "\n",
        "k = np.array([[1/3, 1/3, 1/3],\n",
        "              [1/3, 1/3, 1/3],\n",
        "              [1/3, 1/3, 1/3]])\n",
        "\n",
        "step_n_times(25,heatWorld,k)\n",
        "\n",
        "plt.plot_iterations(heatWorld,rows,cols)\n",
        "\n"
      ]
    },
    {
      "cell_type": "markdown",
      "metadata": {
        "id": "cMmhPBkTuNOA"
      },
      "source": [
        "## Part 3: Modeling Housing Segregation\n",
        "\n",
        "(below is excerpted from Downey's \"Think Complexity\")\n",
        "\n",
        "In 1969 Thomas Schelling published “Models of Segregation”, which proposed a simple model of racial segregation. You can read it at http://thinkcomplex.com/schell.\n",
        "\n",
        "The Schelling model of the world is a grid where each cell represents a house. The houses are occupied by two kinds of agents, labeled red and blue, in roughly equal numbers. About 10% of the houses are empty.\n",
        "\n",
        "\n",
        "At any point in time, an agent might be happy or unhappy, depending on the other agents in the neighborhood, where the “neighborhood\" of each house is the set of eight adjacent cells. In one version of the model, agents are happy if they have at least two neighbors like themselves, and unhappy if they have one or zero.\n",
        "\n",
        "The simulation proceeds by choosing an agent at random and checking to see whether they are happy. If so, nothing happens; if not, the agent chooses one of the unoccupied cells at random and moves.\n",
        "\n",
        "### Implementation\n",
        "\n",
        "Modify your 2D cell above as needed to model this system.  You'll need to specify the different types of agent (red vs blue) within each cell.  One way to do this is to have two separate arrays, one for agents of each type. You can use a 3x3 kernel to count how many neighbors of each type are in a neighborhood.\n",
        "\n",
        "There are other parameters you'll need to establish, for instance the initial density of each population, the size of the model, etc.\n",
        "\n",
        "You'll probably want a way to visualize the system at various iterations.\n",
        "\n",
        "### Observation\n",
        "\n",
        "Run the model for many time steps. What do you observe about this model?  \n",
        "\n",
        "\n"
      ]
    },
    {
      "cell_type": "code",
      "execution_count": null,
      "metadata": {
        "id": "nFwTW2RUwF-f"
      },
      "outputs": [],
      "source": []
    },
    {
      "cell_type": "markdown",
      "metadata": {
        "id": "aa8K1frCwGf8"
      },
      "source": [
        "## Reaction Diffusion Equations\n",
        "\n",
        "Karl Sims (a hero of mine) has an [interesting explanation](https://karlsims.com/rd.html) of Reaction-Diffusion equations, in which two chemicals circulating in a bath both diffuse through the medium and react with each other.\n",
        "\n",
        "The below formulas are well explained and annotated on Sim's site.  Don't let the jargon and symbols confuse you.  I'll explain the terms below.\n",
        "\n",
        "Imagine $A$ and $B$ are chemicals that react with one another.  Specifically, $A$ is converted to $B$ whenever $A$ is near two $B$.\n",
        "\n",
        "$$A` = A + D_{A}\\nabla^{2}A - AB^{2} + f(1-A) \\Delta t$$\n",
        "\n",
        "which can be rewritten as a change equation:\n",
        "\n",
        "$$ A {+}{=} D_{A}\\nabla^{2}A - AB^{2} + f(1-A) $$\n",
        "\n",
        "Imagine $A$ refers to the percentage of chemical A at any cell in the model.\n",
        "\n",
        "Where:\n",
        "*  $D_{A}$ is a constant\n",
        "*  $\\nabla^{2}A$ means 2-D diffusion (using the kernel below)\n",
        "* $AB^{2}$ means that an $A$ will become a B at any particular cell with a rate determined by the concentration of A and the square of the concentration of B in that cell.   We subtract this term from A (and add it to B)\n",
        "* $f$ in the equation $f(1-A)$ is the rate at which A is added to the system at any cell.  So if the cell has no A, then $f$ A is added to the cell.\n",
        "\n",
        "The equation for B is very similar:\n",
        "\n",
        "$$ B {=} B + D_{B}\\nabla^{2}B + AB^{2} - (k+f)B) \\Delta t$$\n",
        "\n",
        "or\n",
        "\n",
        " $$B {+}{=}  D_{B}\\nabla^{2}B + AB^{2} - (k+f)B)$$\n",
        "\n",
        "where $k$ is the rate at which B is removed from the system.\n",
        "\n",
        "### Details\n",
        "\n",
        "Implement the reaction-diffusion equation described by Sims.  To do this you'll need an array for each chemical.\n",
        "\n",
        "#### Diffusion\n",
        "\n",
        "Diffusion  via $\\nabla^{2}A$ means each chemical spreads out in the environment. The *diffusion* step is a simple averaging kernel.  I think the following works best:\n",
        "\n",
        "```\n",
        "0 1  0\n",
        "1 -4 1\n",
        "0 1  0\n",
        "```\n",
        "\n",
        "#### Reaction\n",
        "\n",
        "Reaction via $AB^{2}$ means multiplying each cell in A times the square of the corresponding cell in B.\n",
        "\n",
        "### Feed and Kill\n",
        "\n",
        "This means just increasing/or decreasing each cell at a certain rate proportional to its current contents.\n",
        "\n",
        "### Implementation\n",
        "\n",
        "Implement this system.  You could start by modifying your code from Part 2.\n"
      ]
    },
    {
      "cell_type": "code",
      "execution_count": null,
      "metadata": {
        "id": "o0aKiglSw4lt"
      },
      "outputs": [],
      "source": []
    }
  ],
  "metadata": {
    "colab": {
      "provenance": []
    },
    "kernelspec": {
      "display_name": "Python 3",
      "name": "python3"
    },
    "language_info": {
      "codemirror_mode": {
        "name": "ipython",
        "version": 3
      },
      "file_extension": ".py",
      "mimetype": "text/x-python",
      "name": "python",
      "nbconvert_exporter": "python",
      "pygments_lexer": "ipython3",
      "version": "3.11.9"
    }
  },
  "nbformat": 4,
  "nbformat_minor": 0
}
